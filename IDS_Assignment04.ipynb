{
 "cells": [
  {
   "cell_type": "code",
   "execution_count": null,
   "metadata": {},
   "outputs": [
    {
     "name": "stdout",
     "output_type": "stream",
     "text": [
      "[[17.4406752  25.75946832 20.1381688  ... 17.1902975  12.84557108\n",
      "  34.10207051]\n",
      " [12.93019809 26.20838183  9.95126609 ... 39.36743785 27.96412259\n",
      "   8.2272313 ]\n",
      " [15.05315864  8.81945776  8.2455918  ... 27.74505521 34.25109256\n",
      "  -4.9874128 ]\n",
      " ...\n",
      " [26.81048728 -6.75036812 24.37852902 ...  7.40755388 -1.17050645\n",
      "   0.78188003]\n",
      " [34.06729126  1.63871195 30.51966912 ... 32.60698791 17.87442948\n",
      "  25.38559773]\n",
      " [12.76170762 20.61464398 -9.69595963 ... -7.67551064 30.94164548\n",
      "  34.00026408]]\n",
      "[[34.79317942 76.05639626 13.73158798 ... 34.80872245 93.07983244\n",
      "  15.28922121]\n",
      " [63.418981   80.71891853 61.30667363 ... 63.34722198 12.59806557\n",
      "  35.43162435]\n",
      " [29.97737584 66.16113647 83.04164094 ...  7.86112024 97.81266013\n",
      "  44.06966113]\n",
      " ...\n",
      " [94.62922655 75.26467733 66.45135817 ... 18.65674005 35.50561503\n",
      "  65.9781319 ]\n",
      " [71.88613505 62.41543181 66.74011358 ...  3.41742355 80.33424733\n",
      "  14.88005771]\n",
      " [ 2.44979459 97.06959901 92.70577489 ... 41.852247   31.73524824\n",
      "  79.46967197]]\n"
     ]
    }
   ],
   "source": [
    "import numpy as np\n",
    "np.random.seed(0)\n",
    "temperature_data = np.random.uniform(-10, 40, (500, 365))\n",
    "humidity_data = np.random.uniform(0, 100, (500, 365))\n",
    "print(temperature_data)\n",
    "print(humidity_data)\n",
    "total_values = temperature_data.size\n",
    "missing_count = int(total_values * 0.05)\n",
    "\n",
    "temp_missing_indices = np.random.choice(total_values, missing_count, replace=False)\n",
    "humidity_missing_indices = np.random.choice(total_values, missing_count, replace=False)\n",
    "\n",
    "temperature_data.ravel()[temp_missing_indices] = np.nan\n",
    "humidity_data.ravel()[humidity_missing_indices] = np.nan\n",
    "\n",
    "temp_missing_total = np.isnan(temperature_data).sum()\n",
    "humidity_missing_total = np.isnan(humidity_data).sum()\n",
    "\n",
    "temperature_fahrenheit = (temperature_data * 9/5) + 32\n",
    "discomfort_index = 0.5 * (temperature_fahrenheit + 61 + ((temperature_fahrenheit - 68) * 1.2) + (humidity_data * 0.094))\n",
    "discomfort_index = np.where(discomfort_index > 80, 80, discomfort_index)\n",
    "\n",
    "january_temps = temperature_data[:, :31]\n",
    "january_avg_temp = np.nanmean(january_temps)\n",
    "\n",
    "temperature_data[temperature_data > 35] = np.nan\n",
    "null_counts_per_location = np.isnan(temperature_data).sum(axis=1)\n",
    "\n",
    "quarters = np.split(temperature_data, 4, axis=1)\n",
    "quarterly_averages = [np.nanmean(quarter, axis=1) for quarter in quarters]\n",
    "\n",
    "dry_days = (humidity_data < 30).sum(axis=1)\n",
    "humid_days = (humidity_data > 70).sum(axis=1)\n",
    "\n",
    "pressure_trend = np.linspace(-5, 5, 365)  # Example pressure variation\n",
    "adjusted_temperatures = temperature_data + pressure_trend\n",
    "\n",
    "\n",
    "\n"
   ]
  }
 ],
 "metadata": {
  "kernelspec": {
   "display_name": "Python 3",
   "language": "python",
   "name": "python3"
  },
  "language_info": {
   "codemirror_mode": {
    "name": "ipython",
    "version": 3
   },
   "file_extension": ".py",
   "mimetype": "text/x-python",
   "name": "python",
   "nbconvert_exporter": "python",
   "pygments_lexer": "ipython3",
   "version": "3.12.7"
  }
 },
 "nbformat": 4,
 "nbformat_minor": 2
}
