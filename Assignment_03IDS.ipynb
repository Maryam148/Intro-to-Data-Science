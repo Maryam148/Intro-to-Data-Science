{
 "cells": [
  {
   "cell_type": "code",
   "execution_count": 25,
   "id": "8c6296fe",
   "metadata": {},
   "outputs": [
    {
     "data": {
      "text/plain": [
       "[{'buyer': 'Alice', 'price': 250.5},\n",
       " {'buyer': 'Charlie', 'price': 450},\n",
       " {'buyer': 'Daisy', 'price': 100.0}]"
      ]
     },
     "execution_count": 25,
     "metadata": {},
     "output_type": "execute_result"
    }
   ],
   "source": [
    "\n",
    "# Task 1: E-commerce Data Processing\n",
    "\n",
    "# Part A: Data Validation\n",
    "order_data = [\n",
    "    {\"buyer\": \"Alice\", \"price\": 250.5},\n",
    "    {\"buyer\": \"Bob\", \"price\": \"invalid_data\"},\n",
    "    {\"buyer\": \"Charlie\", \"price\": 450},\n",
    "    {\"buyer\": \"Daisy\", \"price\": 100.0},\n",
    "    {\"buyer\": \"Eve\", \"price\": -30},  # Invalid total\n",
    "]\n",
    "\n",
    "def validate_order_data(orders):\n",
    "    def valid(order):\n",
    "        try:\n",
    "            return isinstance(order['price'], (int, float)) and order['price'] >= 0\n",
    "        except:\n",
    "            return False\n",
    "\n",
    "    return list(filter(lambda order: valid(order), orders))\n",
    "\n",
    "valid_orders = validate_order_data(order_data)\n",
    "valid_orders\n",
    "    "
   ]
  },
  {
   "cell_type": "code",
   "execution_count": 26,
   "id": "158464da",
   "metadata": {},
   "outputs": [
    {
     "data": {
      "text/plain": [
       "[{'buyer': 'Alice', 'price': 250.5},\n",
       " {'buyer': 'Charlie', 'price': 405.0},\n",
       " {'buyer': 'Daisy', 'price': 100.0}]"
      ]
     },
     "execution_count": 26,
     "metadata": {},
     "output_type": "execute_result"
    }
   ],
   "source": [
    "\n",
    "# Part B: Discount Application\n",
    "def discount_applicator(orders):\n",
    "    return list(map(lambda order: {\"buyer\": order[\"buyer\"], \"price\": order[\"price\"] * 0.9} if order[\"price\"] > 300 else order, orders))\n",
    "\n",
    "discounted_orders = discount_applicator(valid_orders)\n",
    "discounted_orders\n",
    "    "
   ]
  },
  {
   "cell_type": "code",
   "execution_count": 27,
   "id": "ead02dd6",
   "metadata": {},
   "outputs": [
    {
     "ename": "NameError",
     "evalue": "name 'reduce' is not defined",
     "output_type": "error",
     "traceback": [
      "\u001b[1;31m---------------------------------------------------------------------------\u001b[0m",
      "\u001b[1;31mNameError\u001b[0m                                 Traceback (most recent call last)",
      "Cell \u001b[1;32mIn[27], line 5\u001b[0m\n\u001b[0;32m      2\u001b[0m \u001b[38;5;28;01mdef\u001b[39;00m \u001b[38;5;21mcalculate_total_sales\u001b[39m(orders):\n\u001b[0;32m      3\u001b[0m     \u001b[38;5;28;01mreturn\u001b[39;00m reduce(\u001b[38;5;28;01mlambda\u001b[39;00m total, order: total \u001b[38;5;241m+\u001b[39m order[\u001b[38;5;124m\"\u001b[39m\u001b[38;5;124mamount\u001b[39m\u001b[38;5;124m\"\u001b[39m], orders, \u001b[38;5;241m0\u001b[39m)\n\u001b[1;32m----> 5\u001b[0m total_sales \u001b[38;5;241m=\u001b[39m \u001b[43mcalculate_total_sales\u001b[49m\u001b[43m(\u001b[49m\u001b[43mdiscounted_orders\u001b[49m\u001b[43m)\u001b[49m\n\u001b[0;32m      6\u001b[0m total_sales\n",
      "Cell \u001b[1;32mIn[27], line 3\u001b[0m, in \u001b[0;36mcalculate_total_sales\u001b[1;34m(orders)\u001b[0m\n\u001b[0;32m      2\u001b[0m \u001b[38;5;28;01mdef\u001b[39;00m \u001b[38;5;21mcalculate_total_sales\u001b[39m(orders):\n\u001b[1;32m----> 3\u001b[0m     \u001b[38;5;28;01mreturn\u001b[39;00m \u001b[43mreduce\u001b[49m(\u001b[38;5;28;01mlambda\u001b[39;00m total, order: total \u001b[38;5;241m+\u001b[39m order[\u001b[38;5;124m\"\u001b[39m\u001b[38;5;124mamount\u001b[39m\u001b[38;5;124m\"\u001b[39m], orders, \u001b[38;5;241m0\u001b[39m)\n",
      "\u001b[1;31mNameError\u001b[0m: name 'reduce' is not defined"
     ]
    }
   ],
   "source": [
    "# Part C: Total Sales Calculation\n",
    "def calculate_total_sales(orders):\n",
    "    return reduce(lambda total, order: total + order[\"amount\"], orders, 0)\n",
    "\n",
    "total_sales = calculate_total_sales(discounted_orders)\n",
    "total_sales"
   ]
  },
  {
   "cell_type": "code",
   "execution_count": null,
   "id": "293f9d9c",
   "metadata": {},
   "outputs": [],
   "source": [
    "\n",
    "# Task 2: Iterator and Generator\n",
    "\n",
    "# Part A: Custom Iterator\n",
    "class NaturalSquareIterator:\n",
    "    def __init__(self, n):\n",
    "        self.n = n\n",
    "        self.count = 1\n",
    "\n",
    "    def __iter__(self):\n",
    "        return self\n",
    "\n",
    "    def __next__(self):\n",
    "        if self.count > self.n:\n",
    "            raise StopIteration\n",
    "        square = self.count ** 2\n",
    "        self.count += 1\n",
    "        return square\n",
    "    "
   ]
  },
  {
   "cell_type": "code",
   "execution_count": null,
   "id": "dac43bf3",
   "metadata": {},
   "outputs": [],
   "source": [
    "\n",
    "# Part B: Fibonacci Generator\n",
    "def fibonacci_gen(n):\n",
    "    x, y = 0, 1\n",
    "    for _ in range(n):\n",
    "        yield x\n",
    "        x, y = y, x + y\n",
    "    "
   ]
  },
  {
   "cell_type": "code",
   "execution_count": null,
   "id": "425ac17c",
   "metadata": {},
   "outputs": [],
   "source": [
    "\n",
    "# Task 3: Exception Handling and Function Decorator\n",
    "\n",
    "# Part A: Chained Exceptions\n",
    "class ZeroDivisionCustomError(Exception):\n",
    "    pass\n",
    "\n",
    "def perform_division(numbers, divisor):\n",
    "    try:\n",
    "        if divisor == 0:\n",
    "            raise ZeroDivisionCustomError(\"Cannot divide by zero\")\n",
    "        return [num / divisor for num in numbers]\n",
    "    except (TypeError, ValueError) as e:\n",
    "        raise ZeroDivisionCustomError(f\"Chained error: {e}\") from e\n",
    "    "
   ]
  },
  {
   "cell_type": "code",
   "execution_count": null,
   "id": "28cc7c0a",
   "metadata": {},
   "outputs": [],
   "source": [
    "\n",
    "# Part B: Exception Logging Decorator\n",
    "def capture_exceptions(func):\n",
    "    @functools.wraps(func)\n",
    "    def wrapper(*args, **kwargs):\n",
    "        try:\n",
    "            return func(*args, **kwargs)\n",
    "        except Exception as ex:\n",
    "            logging.error(f\"Exception caught in {func.__name__}: {ex}\")\n",
    "            raise\n",
    "    return wrapper\n",
    "\n",
    "@capture_exceptions\n",
    "def faulty_function():\n",
    "    raise RuntimeError(\"Just a random error!\")\n",
    "    "
   ]
  }
 ],
 "metadata": {
  "kernelspec": {
   "display_name": "Python 3",
   "language": "python",
   "name": "python3"
  },
  "language_info": {
   "codemirror_mode": {
    "name": "ipython",
    "version": 3
   },
   "file_extension": ".py",
   "mimetype": "text/x-python",
   "name": "python",
   "nbconvert_exporter": "python",
   "pygments_lexer": "ipython3",
   "version": "3.11.9"
  }
 },
 "nbformat": 4,
 "nbformat_minor": 5
}
