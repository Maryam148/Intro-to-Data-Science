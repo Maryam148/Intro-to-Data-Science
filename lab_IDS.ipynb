{
 "cells": [
  {
   "cell_type": "code",
   "execution_count": 8,
   "metadata": {},
   "outputs": [
    {
     "name": "stdout",
     "output_type": "stream",
     "text": [
      "[[ 1  2  3  4  5]\n",
      " [ 6  7  8  9 10]\n",
      " [11 12 13 14 15]\n",
      " [16 17 18 19 20]]\n",
      "[[ 1  2  3  4  0]\n",
      " [ 6  7  8  9  0]\n",
      " [11 12 13 14  0]\n",
      " [16 17 18 19  0]]\n",
      "[ 1  2  3  4  0  6  7  8  9  0 11 12 13 14  0 16 17 18 19  0]\n"
     ]
    }
   ],
   "source": [
    "import numpy as np\n",
    "\n",
    "arr = [1,2,3,4,5,6,7,8,9,10,11,12,13,14,15,16,17,18,19,20]\n",
    "arr1 = np.reshape(arr,(4,5))\n",
    "print(arr1)\n",
    "arr1[:,-1]=0\n",
    "print(arr1)\n",
    "flat = arr1.flatten()\n",
    "print(flat)"
   ]
  },
  {
   "cell_type": "code",
   "execution_count": 11,
   "metadata": {},
   "outputs": [
    {
     "name": "stdout",
     "output_type": "stream",
     "text": [
      "[[11 21 49 40 11]\n",
      " [37 24 44 48 13]\n",
      " [37 18 49 12 42]\n",
      " [48 26 18 10 39]\n",
      " [19 43 50 48 44]]\n",
      "Row 1:\n",
      "Mean: 26.4\n",
      "Sum: 132\n",
      "Min: 11\n",
      "Max: 49\n",
      "Row 2:\n",
      "Mean: 33.2\n",
      "Sum: 166\n",
      "Min: 13\n",
      "Max: 48\n",
      "Row 3:\n",
      "Mean: 31.6\n",
      "Sum: 158\n",
      "Min: 12\n",
      "Max: 49\n",
      "Row 4:\n",
      "Mean: 28.2\n",
      "Sum: 141\n",
      "Min: 10\n",
      "Max: 48\n",
      "Row 5:\n",
      "Mean: 40.8\n",
      "Sum: 204\n",
      "Min: 19\n",
      "Max: 50\n",
      "\n",
      "Column 1:\n",
      "Mean: 30.4\n",
      "Sum: 152\n",
      "Min: 11\n",
      "Max: 48\n",
      "Column 2:\n",
      "Mean: 26.4\n",
      "Sum: 132\n",
      "Min: 18\n",
      "Max: 43\n",
      "Column 3:\n",
      "Mean: 42.0\n",
      "Sum: 210\n",
      "Min: 18\n",
      "Max: 50\n",
      "Column 4:\n",
      "Mean: 31.6\n",
      "Sum: 158\n",
      "Min: 10\n",
      "Max: 48\n",
      "Column 5:\n",
      "Mean: 29.8\n",
      "Sum: 149\n",
      "Min: 11\n",
      "Max: 44\n"
     ]
    }
   ],
   "source": [
    "import numpy as np\n",
    "\n",
    "arr = np.random.randint(10, 51, size=(5, 5))\n",
    "print(arr)\n",
    "\n",
    "for i in range(arr.shape[0]):\n",
    "    print(f\"Row {i+1}:\")\n",
    "    print(f\"Mean: {np.mean(arr[i])}\")\n",
    "    print(f\"Sum: {np.sum(arr[i])}\")\n",
    "    print(f\"Min: {np.min(arr[i])}\")\n",
    "    print(f\"Max: {np.max(arr[i])}\")\n",
    "print()\n",
    "\n",
    "for i in range(arr.shape[1]):\n",
    "    print(f\"Column {i+1}:\")\n",
    "    print(f\"Mean: {np.mean(arr[:, i])}\")\n",
    "    print(f\"Sum: {np.sum(arr[:, i])}\")\n",
    "    print(f\"Min: {np.min(arr[:, i])}\")\n",
    "    print(f\"Max: {np.max(arr[:, i])}\")\n",
    "\n"
   ]
  },
  {
   "cell_type": "code",
   "execution_count": 18,
   "metadata": {},
   "outputs": [
    {
     "name": "stdout",
     "output_type": "stream",
     "text": [
      "[[1. 0. 0. 0.]\n",
      " [0. 1. 0. 0.]\n",
      " [0. 0. 1. 0.]\n",
      " [0. 0. 0. 1.]]\n",
      "[[6. 0. 0. 0.]\n",
      " [0. 6. 0. 0.]\n",
      " [0. 0. 6. 0.]\n",
      " [0. 0. 0. 6.]]\n",
      "[[6. 0. 0. 0.]\n",
      " [0. 6. 0. 0.]\n",
      " [0. 0. 6. 0.]\n",
      " [1. 1. 1. 1.]]\n"
     ]
    }
   ],
   "source": [
    "import numpy as np\n",
    "\n",
    "arr = np.identity(4)\n",
    "print(arr)\n",
    "\n",
    "arrD5=np.diag(np.diag(arr) + 5)\n",
    "print(arrD5)\n",
    "\n",
    "arrD5[-1,:]=1\n",
    "print(arrD5)\n"
   ]
  },
  {
   "cell_type": "code",
   "execution_count": 22,
   "metadata": {},
   "outputs": [
    {
     "name": "stdout",
     "output_type": "stream",
     "text": [
      "[13  7  3  3  6  9 11 11 10  0  8 11  9 10  2]\n",
      "[ 0  2  3  6  7  8  9 10 11 13]\n",
      "[1 1 2 1 1 1 2 2 3 1]\n",
      "[8, 9]\n"
     ]
    }
   ],
   "source": [
    "import numpy as np\n",
    "\n",
    "arr = np.random.randint(0,21,size=15)\n",
    "print(arr)\n",
    "\n",
    "unique,counts = np.unique(arr,return_counts = True)\n",
    "print(unique)\n",
    "print(counts)\n",
    "\n",
    "indices = []\n",
    "for i in range(len(unique)):\n",
    "    if unique[i]>10:\n",
    "        indices.append(i)\n",
    "print(indices)\n",
    "        \n"
   ]
  },
  {
   "cell_type": "code",
   "execution_count": 21,
   "metadata": {},
   "outputs": [
    {
     "name": "stdout",
     "output_type": "stream",
     "text": [
      "[[0.58255868 0.14417867 0.02155485 0.8454482 ]\n",
      " [0.25848527 0.27342198 0.01209697 0.77022084]\n",
      " [0.93501978 0.8589556  0.14925417 0.70225334]]\n",
      "[[0.58 0.14 0.02 0.85]\n",
      " [0.26 0.27 0.01 0.77]\n",
      " [0.94 0.86 0.15 0.7 ]]\n",
      "[[0.58 0.5  0.02 0.85]\n",
      " [0.26 0.5  0.01 0.77]\n",
      " [0.94 0.5  0.15 0.7 ]]\n"
     ]
    }
   ],
   "source": [
    "import numpy as np\n",
    "\n",
    "arr = np.random.rand(3,4)\n",
    "print(arr)\n",
    "rounded = np.round(arr,2)\n",
    "print(rounded)\n",
    "rounded[:,1]=0.5\n",
    "print(rounded)"
   ]
  }
 ],
 "metadata": {
  "kernelspec": {
   "display_name": "Python 3",
   "language": "python",
   "name": "python3"
  },
  "language_info": {
   "codemirror_mode": {
    "name": "ipython",
    "version": 3
   },
   "file_extension": ".py",
   "mimetype": "text/x-python",
   "name": "python",
   "nbconvert_exporter": "python",
   "pygments_lexer": "ipython3",
   "version": "3.12.7"
  }
 },
 "nbformat": 4,
 "nbformat_minor": 2
}
