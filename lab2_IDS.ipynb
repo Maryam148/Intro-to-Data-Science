{
 "cells": [
  {
   "cell_type": "code",
   "execution_count": null,
   "metadata": {},
   "outputs": [
    {
     "name": "stdout",
     "output_type": "stream",
     "text": [
      "[[  5  56 120]\n",
      " [  6  56  89]\n",
      " [  7  65 430]\n",
      " [  4  80  75]]\n",
      "[[  5  56 120]\n",
      " [  6  56  89]\n",
      " [  7 220 430]\n",
      " [  4  80  75]]\n"
     ]
    }
   ],
   "source": [
    "import numpy as np\n",
    "players_stats = np.array([[5,56,120],[6,56,89],[7,65,430],[4,80,75]])\n",
    "print(players_stats)\n",
    "max_points = np.argmax(players_stats[:,2])\n",
    "players_stats[max_points,1] = 220\n",
    "print(players_stats)\n"
   ]
  },
  {
   "cell_type": "code",
   "execution_count": 9,
   "metadata": {},
   "outputs": [
    {
     "name": "stdout",
     "output_type": "stream",
     "text": [
      "[[  5  56 120]\n",
      " [  6  56  89]\n",
      " [  7 220 430]\n",
      " [  4  80  75]\n",
      " [  6  45 300]\n",
      " [  6  45 300]]\n"
     ]
    }
   ],
   "source": [
    "new_player = np.array([[6,45,300]])\n",
    "players_stats = np.vstack((players_stats,new_player))\n",
    "print(players_stats)"
   ]
  },
  {
   "cell_type": "code",
   "execution_count": 10,
   "metadata": {},
   "outputs": [
    {
     "name": "stdout",
     "output_type": "stream",
     "text": [
      "[[  5  56 120]\n",
      " [  6  56  89]\n",
      " [ 80 190  35]\n",
      " [  7 220 430]\n",
      " [  4  80  75]\n",
      " [  6  45 300]\n",
      " [  6  45 300]]\n"
     ]
    }
   ],
   "source": [
    "new_stat = np.array([[80,190,35]])\n",
    "players_stats = np.insert(players_stats,2,new_stat,axis=0)\n",
    "print(players_stats)"
   ]
  },
  {
   "cell_type": "code",
   "execution_count": 11,
   "metadata": {},
   "outputs": [
    {
     "name": "stdout",
     "output_type": "stream",
     "text": [
      "[[  5  56 120]\n",
      " [  6  56  89]\n",
      " [  7 220 430]\n",
      " [  4  80  75]\n",
      " [  6  45 300]\n",
      " [  6  45 300]]\n"
     ]
    }
   ],
   "source": [
    "min_points = np.argmin(players_stats[:,2])\n",
    "players_stats = np.delete(players_stats,min_points,axis=0)\n",
    "print(players_stats)"
   ]
  },
  {
   "cell_type": "code",
   "execution_count": 12,
   "metadata": {},
   "outputs": [
    {
     "name": "stdout",
     "output_type": "stream",
     "text": [
      "[[ 56 120]\n",
      " [ 56  89]\n",
      " [ 65 430]\n",
      " [ 80  75]]\n",
      "[[34 78]\n",
      " [56 98]\n",
      " [87 23]\n",
      " [45 76]]\n"
     ]
    }
   ],
   "source": [
    "arr1 = np.array([[56,120],[56,89],[65,430],[80,75]])\n",
    "arr2 = np.array([[34,78],[56,98],[87,23],[45,76]])\n",
    "print(arr1)\n",
    "print(arr2)"
   ]
  },
  {
   "cell_type": "code",
   "execution_count": 13,
   "metadata": {},
   "outputs": [
    {
     "name": "stdout",
     "output_type": "stream",
     "text": [
      "[[ 56 120]\n",
      " [ 56  89]\n",
      " [ 65 430]\n",
      " [ 80  75]]\n",
      "[[34 78]\n",
      " [56 98]\n",
      " [87 23]\n",
      " [45 76]]\n"
     ]
    }
   ],
   "source": [
    "shallow = arr1.view()\n",
    "deep = np.copy(arr2)\n",
    "print(shallow)\n",
    "print(deep)"
   ]
  },
  {
   "cell_type": "code",
   "execution_count": 14,
   "metadata": {},
   "outputs": [
    {
     "name": "stdout",
     "output_type": "stream",
     "text": [
      "[[ 56 120]\n",
      " [ 56  89]\n",
      " [ 65 430]\n",
      " [ 80  75]\n",
      " [ 34  78]\n",
      " [ 56  98]\n",
      " [ 87  23]\n",
      " [ 45  76]]\n"
     ]
    }
   ],
   "source": [
    "concatenated_array = np.concatenate((arr1,arr2),axis=0)\n",
    "print(concatenated_array)"
   ]
  },
  {
   "cell_type": "code",
   "execution_count": 16,
   "metadata": {},
   "outputs": [
    {
     "name": "stdout",
     "output_type": "stream",
     "text": [
      "[120  89  65 430  80  75  78  98  87  76]\n",
      "[56 56 34 56 23 45]\n"
     ]
    }
   ],
   "source": [
    "condition = concatenated_array > 60\n",
    "arr3 = concatenated_array[condition]\n",
    "arr4 = concatenated_array[~condition]\n",
    "print(arr3)\n",
    "print(arr4)"
   ]
  },
  {
   "cell_type": "code",
   "execution_count": 17,
   "metadata": {},
   "outputs": [
    {
     "name": "stdout",
     "output_type": "stream",
     "text": [
      "[[ 56 120]\n",
      " [ 30  40]\n",
      " [ 65 430]\n",
      " [ 80  75]]\n",
      "[[34 78]\n",
      " [56 98]\n",
      " [50 60]\n",
      " [45 76]]\n"
     ]
    }
   ],
   "source": [
    "arr1[1]=[30,40]\n",
    "arr2[2]=[50,60]\n",
    "shallow1 = arr1.view()\n",
    "deep1 = np.copy(arr2)\n",
    "print(shallow1)\n",
    "print(deep1)"
   ]
  }
 ],
 "metadata": {
  "kernelspec": {
   "display_name": "Python 3",
   "language": "python",
   "name": "python3"
  },
  "language_info": {
   "codemirror_mode": {
    "name": "ipython",
    "version": 3
   },
   "file_extension": ".py",
   "mimetype": "text/x-python",
   "name": "python",
   "nbconvert_exporter": "python",
   "pygments_lexer": "ipython3",
   "version": "3.12.7"
  }
 },
 "nbformat": 4,
 "nbformat_minor": 2
}
